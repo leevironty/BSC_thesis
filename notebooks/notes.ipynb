{
 "metadata": {
  "language_info": {
   "codemirror_mode": {
    "name": "ipython",
    "version": 3
   },
   "file_extension": ".py",
   "mimetype": "text/x-python",
   "name": "python",
   "nbconvert_exporter": "python",
   "pygments_lexer": "ipython3",
   "version": "3.7.7"
  },
  "orig_nbformat": 2,
  "kernelspec": {
   "name": "python3",
   "display_name": "Python 3.7.7 64-bit",
   "metadata": {
    "interpreter": {
     "hash": "70b38d7a306a849643e446cd70466270a13445e5987dfa1344ef2b127438fa4d"
    }
   }
  }
 },
 "nbformat": 4,
 "nbformat_minor": 2,
 "cells": [
  {
   "cell_type": "code",
   "execution_count": 19,
   "metadata": {},
   "outputs": [],
   "source": [
    "import pandas as pd\n",
    "from make_datasets import data, datasets, format_for_prophet, dataset_generator, sales"
   ]
  },
  {
   "cell_type": "code",
   "execution_count": 5,
   "metadata": {},
   "outputs": [
    {
     "output_type": "execute_result",
     "data": {
      "text/plain": [
       "ds                           2012-10-26 00:00:00\n",
       "temperature                              82.3403\n",
       "fuel_price                                3.9839\n",
       "cpi                                      179.893\n",
       "unemployment_interpolated                8.43368\n",
       "y                                    2.54986e+06\n",
       "temp_diff                                15.2021\n",
       "fuel_diff                                0.18026\n",
       "cpi_diff                                0.217836\n",
       "IsHoliday                                   True\n",
       "overfit                                  1.04598\n",
       "dtype: object"
      ]
     },
     "metadata": {},
     "execution_count": 5
    }
   ],
   "source": [
    "datasets['A'].max()"
   ]
  },
  {
   "cell_type": "code",
   "execution_count": 6,
   "metadata": {},
   "outputs": [
    {
     "output_type": "execute_result",
     "data": {
      "text/plain": [
       "ds                           2010-02-12 00:00:00\n",
       "temperature                               29.489\n",
       "fuel_price                               2.65719\n",
       "cpi                                      170.523\n",
       "unemployment_interpolated                6.80189\n",
       "y                                    1.24593e+06\n",
       "temp_diff                               -9.41657\n",
       "fuel_diff                             -0.0858267\n",
       "cpi_diff                              -0.0777966\n",
       "IsHoliday                                  False\n",
       "overfit                                 0.479214\n",
       "dtype: object"
      ]
     },
     "metadata": {},
     "execution_count": 6
    }
   ],
   "source": [
    "datasets['A'].min()"
   ]
  },
  {
   "cell_type": "code",
   "execution_count": 14,
   "metadata": {},
   "outputs": [
    {
     "output_type": "execute_result",
     "data": {
      "text/plain": [
       "Store                                          1\n",
       "Date                         2011-11-11 00:00:00\n",
       "Temperature                                 7.46\n",
       "Fuel_Price                                 3.031\n",
       "MarkDown1                                   0.27\n",
       "MarkDown2                                -265.76\n",
       "MarkDown3                                  -29.1\n",
       "MarkDown4                                   0.22\n",
       "MarkDown5                                 135.16\n",
       "CPI                                      129.817\n",
       "Unemployment                               3.879\n",
       "IsHoliday                                  False\n",
       "unemployment_interpolated                  3.879\n",
       "temp_diff                                 -21.11\n",
       "fuel_diff                                 -0.235\n",
       "cpi_diff                               -0.105452\n",
       "Weekly_Sales                              215359\n",
       "Type                                           A\n",
       "Size                                       34875\n",
       "dtype: object"
      ]
     },
     "metadata": {},
     "execution_count": 14
    }
   ],
   "source": [
    "data.loc[data[['MarkDown1', 'MarkDown2', 'MarkDown3', 'MarkDown4', 'MarkDown5']].dropna(how='all').index].min()"
   ]
  },
  {
   "cell_type": "code",
   "execution_count": 15,
   "metadata": {},
   "outputs": [
    {
     "output_type": "execute_result",
     "data": {
      "text/plain": [
       "      Store       Date  Temperature  Fuel_Price  MarkDown1  MarkDown2  \\\n",
       "0         1 2010-02-05        42.31       2.572        NaN        NaN   \n",
       "1         1 2010-02-12        38.51       2.548        NaN        NaN   \n",
       "2         1 2010-02-19        39.93       2.514        NaN        NaN   \n",
       "3         1 2010-02-26        46.63       2.561        NaN        NaN   \n",
       "4         1 2010-03-05        46.50       2.625        NaN        NaN   \n",
       "...     ...        ...          ...         ...        ...        ...   \n",
       "6430     45 2012-09-28        64.88       3.997    4556.61      20.64   \n",
       "6431     45 2012-10-05        64.89       3.985    5046.74        NaN   \n",
       "6432     45 2012-10-12        54.47       4.000    1956.28        NaN   \n",
       "6433     45 2012-10-19        56.47       3.969    2004.02        NaN   \n",
       "6434     45 2012-10-26        58.85       3.882    4018.91      58.08   \n",
       "\n",
       "      MarkDown3  MarkDown4  MarkDown5         CPI  Unemployment  IsHoliday  \\\n",
       "0           NaN        NaN        NaN  211.096358         8.106      False   \n",
       "1           NaN        NaN        NaN  211.242170         8.106       True   \n",
       "2           NaN        NaN        NaN  211.289143         8.106      False   \n",
       "3           NaN        NaN        NaN  211.319643         8.106      False   \n",
       "4           NaN        NaN        NaN  211.350143         8.106      False   \n",
       "...         ...        ...        ...         ...           ...        ...   \n",
       "6430       1.50    1601.01    3288.25  192.013558         8.684      False   \n",
       "6431      18.82    2253.43    2340.01  192.170412         8.667      False   \n",
       "6432       7.89     599.32    3990.54  192.327265         8.667      False   \n",
       "6433       3.18     437.73    1537.49  192.330854         8.667      False   \n",
       "6434     100.00     211.94     858.33  192.308899         8.667      False   \n",
       "\n",
       "      unemployment_interpolated  temp_diff  fuel_diff  cpi_diff  Weekly_Sales  \\\n",
       "0                      8.106000        NaN        NaN       NaN    1643690.90   \n",
       "1                      8.068750      -3.80     -0.024  0.145812    1641957.44   \n",
       "2                      8.031500       1.42     -0.034  0.046973    1611968.17   \n",
       "3                      7.994250       6.70      0.047  0.030500    1409727.59   \n",
       "4                      7.957000      -0.13      0.064  0.030500    1554806.68   \n",
       "...                         ...        ...        ...       ...           ...   \n",
       "6430                   8.668308      -0.44     -0.041  0.156854     713173.95   \n",
       "6431                   8.667000       0.01     -0.012  0.156854     733455.07   \n",
       "6432                   8.663769     -10.42      0.015  0.156854     734464.36   \n",
       "6433                   8.660538       2.00     -0.031  0.003589     718125.53   \n",
       "6434                   8.657308       2.38     -0.087 -0.021955     760281.43   \n",
       "\n",
       "     Type    Size  \n",
       "0       A  151315  \n",
       "1       A  151315  \n",
       "2       A  151315  \n",
       "3       A  151315  \n",
       "4       A  151315  \n",
       "...   ...     ...  \n",
       "6430    B  118221  \n",
       "6431    B  118221  \n",
       "6432    B  118221  \n",
       "6433    B  118221  \n",
       "6434    B  118221  \n",
       "\n",
       "[6435 rows x 19 columns]"
      ],
      "text/html": "<div>\n<style scoped>\n    .dataframe tbody tr th:only-of-type {\n        vertical-align: middle;\n    }\n\n    .dataframe tbody tr th {\n        vertical-align: top;\n    }\n\n    .dataframe thead th {\n        text-align: right;\n    }\n</style>\n<table border=\"1\" class=\"dataframe\">\n  <thead>\n    <tr style=\"text-align: right;\">\n      <th></th>\n      <th>Store</th>\n      <th>Date</th>\n      <th>Temperature</th>\n      <th>Fuel_Price</th>\n      <th>MarkDown1</th>\n      <th>MarkDown2</th>\n      <th>MarkDown3</th>\n      <th>MarkDown4</th>\n      <th>MarkDown5</th>\n      <th>CPI</th>\n      <th>Unemployment</th>\n      <th>IsHoliday</th>\n      <th>unemployment_interpolated</th>\n      <th>temp_diff</th>\n      <th>fuel_diff</th>\n      <th>cpi_diff</th>\n      <th>Weekly_Sales</th>\n      <th>Type</th>\n      <th>Size</th>\n    </tr>\n  </thead>\n  <tbody>\n    <tr>\n      <th>0</th>\n      <td>1</td>\n      <td>2010-02-05</td>\n      <td>42.31</td>\n      <td>2.572</td>\n      <td>NaN</td>\n      <td>NaN</td>\n      <td>NaN</td>\n      <td>NaN</td>\n      <td>NaN</td>\n      <td>211.096358</td>\n      <td>8.106</td>\n      <td>False</td>\n      <td>8.106000</td>\n      <td>NaN</td>\n      <td>NaN</td>\n      <td>NaN</td>\n      <td>1643690.90</td>\n      <td>A</td>\n      <td>151315</td>\n    </tr>\n    <tr>\n      <th>1</th>\n      <td>1</td>\n      <td>2010-02-12</td>\n      <td>38.51</td>\n      <td>2.548</td>\n      <td>NaN</td>\n      <td>NaN</td>\n      <td>NaN</td>\n      <td>NaN</td>\n      <td>NaN</td>\n      <td>211.242170</td>\n      <td>8.106</td>\n      <td>True</td>\n      <td>8.068750</td>\n      <td>-3.80</td>\n      <td>-0.024</td>\n      <td>0.145812</td>\n      <td>1641957.44</td>\n      <td>A</td>\n      <td>151315</td>\n    </tr>\n    <tr>\n      <th>2</th>\n      <td>1</td>\n      <td>2010-02-19</td>\n      <td>39.93</td>\n      <td>2.514</td>\n      <td>NaN</td>\n      <td>NaN</td>\n      <td>NaN</td>\n      <td>NaN</td>\n      <td>NaN</td>\n      <td>211.289143</td>\n      <td>8.106</td>\n      <td>False</td>\n      <td>8.031500</td>\n      <td>1.42</td>\n      <td>-0.034</td>\n      <td>0.046973</td>\n      <td>1611968.17</td>\n      <td>A</td>\n      <td>151315</td>\n    </tr>\n    <tr>\n      <th>3</th>\n      <td>1</td>\n      <td>2010-02-26</td>\n      <td>46.63</td>\n      <td>2.561</td>\n      <td>NaN</td>\n      <td>NaN</td>\n      <td>NaN</td>\n      <td>NaN</td>\n      <td>NaN</td>\n      <td>211.319643</td>\n      <td>8.106</td>\n      <td>False</td>\n      <td>7.994250</td>\n      <td>6.70</td>\n      <td>0.047</td>\n      <td>0.030500</td>\n      <td>1409727.59</td>\n      <td>A</td>\n      <td>151315</td>\n    </tr>\n    <tr>\n      <th>4</th>\n      <td>1</td>\n      <td>2010-03-05</td>\n      <td>46.50</td>\n      <td>2.625</td>\n      <td>NaN</td>\n      <td>NaN</td>\n      <td>NaN</td>\n      <td>NaN</td>\n      <td>NaN</td>\n      <td>211.350143</td>\n      <td>8.106</td>\n      <td>False</td>\n      <td>7.957000</td>\n      <td>-0.13</td>\n      <td>0.064</td>\n      <td>0.030500</td>\n      <td>1554806.68</td>\n      <td>A</td>\n      <td>151315</td>\n    </tr>\n    <tr>\n      <th>...</th>\n      <td>...</td>\n      <td>...</td>\n      <td>...</td>\n      <td>...</td>\n      <td>...</td>\n      <td>...</td>\n      <td>...</td>\n      <td>...</td>\n      <td>...</td>\n      <td>...</td>\n      <td>...</td>\n      <td>...</td>\n      <td>...</td>\n      <td>...</td>\n      <td>...</td>\n      <td>...</td>\n      <td>...</td>\n      <td>...</td>\n      <td>...</td>\n    </tr>\n    <tr>\n      <th>6430</th>\n      <td>45</td>\n      <td>2012-09-28</td>\n      <td>64.88</td>\n      <td>3.997</td>\n      <td>4556.61</td>\n      <td>20.64</td>\n      <td>1.50</td>\n      <td>1601.01</td>\n      <td>3288.25</td>\n      <td>192.013558</td>\n      <td>8.684</td>\n      <td>False</td>\n      <td>8.668308</td>\n      <td>-0.44</td>\n      <td>-0.041</td>\n      <td>0.156854</td>\n      <td>713173.95</td>\n      <td>B</td>\n      <td>118221</td>\n    </tr>\n    <tr>\n      <th>6431</th>\n      <td>45</td>\n      <td>2012-10-05</td>\n      <td>64.89</td>\n      <td>3.985</td>\n      <td>5046.74</td>\n      <td>NaN</td>\n      <td>18.82</td>\n      <td>2253.43</td>\n      <td>2340.01</td>\n      <td>192.170412</td>\n      <td>8.667</td>\n      <td>False</td>\n      <td>8.667000</td>\n      <td>0.01</td>\n      <td>-0.012</td>\n      <td>0.156854</td>\n      <td>733455.07</td>\n      <td>B</td>\n      <td>118221</td>\n    </tr>\n    <tr>\n      <th>6432</th>\n      <td>45</td>\n      <td>2012-10-12</td>\n      <td>54.47</td>\n      <td>4.000</td>\n      <td>1956.28</td>\n      <td>NaN</td>\n      <td>7.89</td>\n      <td>599.32</td>\n      <td>3990.54</td>\n      <td>192.327265</td>\n      <td>8.667</td>\n      <td>False</td>\n      <td>8.663769</td>\n      <td>-10.42</td>\n      <td>0.015</td>\n      <td>0.156854</td>\n      <td>734464.36</td>\n      <td>B</td>\n      <td>118221</td>\n    </tr>\n    <tr>\n      <th>6433</th>\n      <td>45</td>\n      <td>2012-10-19</td>\n      <td>56.47</td>\n      <td>3.969</td>\n      <td>2004.02</td>\n      <td>NaN</td>\n      <td>3.18</td>\n      <td>437.73</td>\n      <td>1537.49</td>\n      <td>192.330854</td>\n      <td>8.667</td>\n      <td>False</td>\n      <td>8.660538</td>\n      <td>2.00</td>\n      <td>-0.031</td>\n      <td>0.003589</td>\n      <td>718125.53</td>\n      <td>B</td>\n      <td>118221</td>\n    </tr>\n    <tr>\n      <th>6434</th>\n      <td>45</td>\n      <td>2012-10-26</td>\n      <td>58.85</td>\n      <td>3.882</td>\n      <td>4018.91</td>\n      <td>58.08</td>\n      <td>100.00</td>\n      <td>211.94</td>\n      <td>858.33</td>\n      <td>192.308899</td>\n      <td>8.667</td>\n      <td>False</td>\n      <td>8.657308</td>\n      <td>2.38</td>\n      <td>-0.087</td>\n      <td>-0.021955</td>\n      <td>760281.43</td>\n      <td>B</td>\n      <td>118221</td>\n    </tr>\n  </tbody>\n</table>\n<p>6435 rows × 19 columns</p>\n</div>"
     },
     "metadata": {},
     "execution_count": 15
    }
   ],
   "source": [
    "data"
   ]
  },
  {
   "cell_type": "code",
   "execution_count": 23,
   "metadata": {},
   "outputs": [
    {
     "output_type": "execute_result",
     "data": {
      "text/plain": [
       "        Store  Dept\n",
       "0           1     1\n",
       "143         1     2\n",
       "286         1     3\n",
       "429         1     4\n",
       "572         1     5\n",
       "...       ...   ...\n",
       "421013     45    94\n",
       "421147     45    95\n",
       "421290     45    96\n",
       "421292     45    97\n",
       "421435     45    98\n",
       "\n",
       "[3331 rows x 2 columns]"
      ],
      "text/html": "<div>\n<style scoped>\n    .dataframe tbody tr th:only-of-type {\n        vertical-align: middle;\n    }\n\n    .dataframe tbody tr th {\n        vertical-align: top;\n    }\n\n    .dataframe thead th {\n        text-align: right;\n    }\n</style>\n<table border=\"1\" class=\"dataframe\">\n  <thead>\n    <tr style=\"text-align: right;\">\n      <th></th>\n      <th>Store</th>\n      <th>Dept</th>\n    </tr>\n  </thead>\n  <tbody>\n    <tr>\n      <th>0</th>\n      <td>1</td>\n      <td>1</td>\n    </tr>\n    <tr>\n      <th>143</th>\n      <td>1</td>\n      <td>2</td>\n    </tr>\n    <tr>\n      <th>286</th>\n      <td>1</td>\n      <td>3</td>\n    </tr>\n    <tr>\n      <th>429</th>\n      <td>1</td>\n      <td>4</td>\n    </tr>\n    <tr>\n      <th>572</th>\n      <td>1</td>\n      <td>5</td>\n    </tr>\n    <tr>\n      <th>...</th>\n      <td>...</td>\n      <td>...</td>\n    </tr>\n    <tr>\n      <th>421013</th>\n      <td>45</td>\n      <td>94</td>\n    </tr>\n    <tr>\n      <th>421147</th>\n      <td>45</td>\n      <td>95</td>\n    </tr>\n    <tr>\n      <th>421290</th>\n      <td>45</td>\n      <td>96</td>\n    </tr>\n    <tr>\n      <th>421292</th>\n      <td>45</td>\n      <td>97</td>\n    </tr>\n    <tr>\n      <th>421435</th>\n      <td>45</td>\n      <td>98</td>\n    </tr>\n  </tbody>\n</table>\n<p>3331 rows × 2 columns</p>\n</div>"
     },
     "metadata": {},
     "execution_count": 23
    }
   ],
   "source": [
    "sales[['Store', 'Dept']].drop_duplicates()"
   ]
  },
  {
   "cell_type": "code",
   "execution_count": 29,
   "metadata": {},
   "outputs": [
    {
     "output_type": "execute_result",
     "data": {
      "text/plain": [
       "       Dept\n",
       "0         1\n",
       "143       2\n",
       "286       3\n",
       "429       4\n",
       "572       5\n",
       "...     ...\n",
       "9656     95\n",
       "9799     96\n",
       "9921     97\n",
       "10064    98\n",
       "10207    99\n",
       "\n",
       "[81 rows x 1 columns]"
      ],
      "text/html": "<div>\n<style scoped>\n    .dataframe tbody tr th:only-of-type {\n        vertical-align: middle;\n    }\n\n    .dataframe tbody tr th {\n        vertical-align: top;\n    }\n\n    .dataframe thead th {\n        text-align: right;\n    }\n</style>\n<table border=\"1\" class=\"dataframe\">\n  <thead>\n    <tr style=\"text-align: right;\">\n      <th></th>\n      <th>Dept</th>\n    </tr>\n  </thead>\n  <tbody>\n    <tr>\n      <th>0</th>\n      <td>1</td>\n    </tr>\n    <tr>\n      <th>143</th>\n      <td>2</td>\n    </tr>\n    <tr>\n      <th>286</th>\n      <td>3</td>\n    </tr>\n    <tr>\n      <th>429</th>\n      <td>4</td>\n    </tr>\n    <tr>\n      <th>572</th>\n      <td>5</td>\n    </tr>\n    <tr>\n      <th>...</th>\n      <td>...</td>\n    </tr>\n    <tr>\n      <th>9656</th>\n      <td>95</td>\n    </tr>\n    <tr>\n      <th>9799</th>\n      <td>96</td>\n    </tr>\n    <tr>\n      <th>9921</th>\n      <td>97</td>\n    </tr>\n    <tr>\n      <th>10064</th>\n      <td>98</td>\n    </tr>\n    <tr>\n      <th>10207</th>\n      <td>99</td>\n    </tr>\n  </tbody>\n</table>\n<p>81 rows × 1 columns</p>\n</div>"
     },
     "metadata": {},
     "execution_count": 29
    }
   ],
   "source": [
    "sales[['Dept']].drop_duplicates().sort_values(by='Dept')"
   ]
  },
  {
   "cell_type": "code",
   "execution_count": 31,
   "metadata": {},
   "outputs": [
    {
     "output_type": "execute_result",
     "data": {
      "text/plain": [
       "45"
      ]
     },
     "metadata": {},
     "execution_count": 31
    }
   ],
   "source": [
    "sales[['Store']].drop_duplicates().size"
   ]
  },
  {
   "cell_type": "code",
   "execution_count": null,
   "metadata": {},
   "outputs": [],
   "source": []
  }
 ]
}